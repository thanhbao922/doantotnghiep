{
  "cells": [
    {
      "cell_type": "markdown",
      "metadata": {
        "id": "view-in-github",
        "colab_type": "text"
      },
      "source": [
        "<a href=\"https://colab.research.google.com/github/thanhbao922/doantotnghiep/blob/main/%C4%90%E1%BB%93_%C3%A1n_t%E1%BB%91t_nghi%E1%BB%87p_b%C3%A0i_to%C3%A1n_th%E1%BB%B1c_t%E1%BA%BF_QHTN.ipynb\" target=\"_parent\"><img src=\"https://colab.research.google.com/assets/colab-badge.svg\" alt=\"Open In Colab\"/></a>"
      ]
    },
    {
      "cell_type": "code",
      "execution_count": null,
      "metadata": {
        "id": "3enM7c42r1vx"
      },
      "outputs": [],
      "source": [
        "from google.colab import drive\n",
        "drive.mount('/content/drive')\n",
        "%cd /content/drive/MyDrive/Đồ án tốt nghiệp/DATA chạy code"
      ]
    },
    {
      "cell_type": "markdown",
      "source": [
        "HÀM: xóa số 0 liên tiếp trong solution"
      ],
      "metadata": {
        "id": "lgNSyQqccYR9"
      }
    },
    {
      "cell_type": "code",
      "execution_count": null,
      "metadata": {
        "id": "otHvhFvBsUAH"
      },
      "outputs": [],
      "source": [
        "def xoa_so_o_lien_tiep(solution):\n",
        "  i = 0\n",
        "  while i < len(solution):\n",
        "      if len(solution) > 0 and solution[i] == 0:\n",
        "          # Tìm đến cuối dãy số 0 liên tiếp\n",
        "          j = i + 1\n",
        "          if j < len(solution) and solution[j] == 0:\n",
        "              solution.pop(j)\n",
        "              i -= 1  # Giảm chỉ số để duyệt lại vị trí hiện tại trong lần lặp tiếp theo\n",
        "      i += 1\n",
        "  if solution[len(solution)-1] == 0:\n",
        "    solution.pop(len(solution)-1)\n",
        "  return solution"
      ]
    },
    {
      "cell_type": "code",
      "execution_count": null,
      "metadata": {
        "id": "YXd77H-tQQB1"
      },
      "outputs": [],
      "source": [
        "# Cách gọi: gọi stt xe rồi đến giá trị trong 0 hoặc 1, ví dụ xe[1][0] -> output: 20 (Tấn)\n",
        "xe = {1 : [1.25, 10],\n",
        "      2 : [2, 16],\n",
        "      3 : [3.5, 23],\n",
        "      4 : [5, 30],\n",
        "      5 : [7, 38],\n",
        "      6 : [9, 44],\n",
        "      7 : [11, 50],\n",
        "      8 : [15, 60]}\n",
        "print(xe)"
      ]
    },
    {
      "cell_type": "markdown",
      "source": [
        "Lấy data về Khách hàng và Ma trận khoảng cách"
      ],
      "metadata": {
        "id": "QPS0aQIqdn1E"
      }
    },
    {
      "cell_type": "code",
      "execution_count": null,
      "metadata": {
        "id": "p4W7oa0-Q_Bw"
      },
      "outputs": [],
      "source": [
        "import pandas as pd\n",
        "data = pd.read_excel('baitoanthucte.xlsx', sheet_name='DATA')\n",
        "c = data['STT'].tolist()\n",
        "customers = c.copy()\n",
        "customers.pop(0)\n",
        "demand = {}\n",
        "# time_window_constraint = {}\n",
        "for index, row in data.iterrows():\n",
        "    STT = row['STT']\n",
        "    shipto = row['Mã']\n",
        "    Tan = row['Tấn']\n",
        "    Khoi = row['Khối']\n",
        "    khuvuc = row['Khu vực']\n",
        "    zone = row['Zone']\n",
        "    tinh = row['Tỉnh']\n",
        "    quanhuyen = row['Huyện']\n",
        "    demand[STT] = (shipto, Tan, Khoi, khuvuc, zone, tinh, quanhuyen)\n",
        "toado = {}\n",
        "for index, row in data.iterrows():\n",
        "    STT = row['STT']\n",
        "    kinhdo = row['Kinh độ']\n",
        "    vido = row['Vĩ độ']\n",
        "    toado[STT] = (vido, kinhdo)\n",
        "# Đọc file Excel\n",
        "distance = pd.read_excel('baitoanthucte.xlsx', sheet_name='distance')\n",
        "# Đặt cột đầu tiên làm tên cột\n",
        "distance = distance.set_index(distance.columns[0])"
      ]
    },
    {
      "cell_type": "markdown",
      "source": [
        "HÀM: chọn loại xe (thỏa mãn Load & CBM)"
      ],
      "metadata": {
        "id": "Xrppjq65d-lz"
      }
    },
    {
      "cell_type": "code",
      "execution_count": null,
      "metadata": {
        "id": "R7H0gUWsUIDu"
      },
      "outputs": [],
      "source": [
        "def choose_truck(load, cbm, trucks):\n",
        "    suitable_truck = None\n",
        "# Xét với mỗi tổ hợp {thứ tự xe, (tải trọng, thể tích)}\n",
        "    for truck_id, (max_load, max_cbm) in trucks.items():\n",
        "        if load <= max_load and cbm <= max_cbm:\n",
        "            suitable_truck = (truck_id)\n",
        "            break  # Dừng ngay khi tìm thấy xe thích hợp đầu tiên\n",
        "    return suitable_truck"
      ]
    },
    {
      "cell_type": "code",
      "execution_count": null,
      "metadata": {
        "id": "ALgb-SjDUK-o"
      },
      "outputs": [],
      "source": [
        "khoangcach_dict = distance.to_dict(orient='index')"
      ]
    },
    {
      "cell_type": "markdown",
      "source": [
        "Lấy data về Bảng giá nhà thầu"
      ],
      "metadata": {
        "id": "pGOejjMTeUMh"
      }
    },
    {
      "cell_type": "code",
      "execution_count": null,
      "metadata": {
        "id": "KeaYsiAMUcFx"
      },
      "outputs": [],
      "source": [
        "#Nhà thầu a\n",
        "chiphia = pd.read_excel('baitoanthucte.xlsx', sheet_name='nhathaua')\n",
        "costa = {}\n",
        "for index, row in chiphia.iterrows():\n",
        "    khuvuc = row['Khu Vực']\n",
        "    xe_1 = row['1.25T']\n",
        "    xe_2 = row['2T']\n",
        "    xe_3 = row['3.5T']\n",
        "    xe_4 = row['5T']\n",
        "    xe_5 = row['7T']\n",
        "    xe_6 = row['9T']\n",
        "    xe_7 = row['11T']\n",
        "    xe_8 = row['15T']\n",
        "    costa[khuvuc] = (xe_1, xe_2, xe_3, xe_4, xe_5, xe_6, xe_7, xe_8)\n",
        "\n",
        "#Nhà thầu b\n",
        "chiphib = pd.read_excel('baitoanthucte.xlsx', sheet_name='nhathaub')\n",
        "costb = {}\n",
        "for index, row in chiphib.iterrows():\n",
        "    khuvuc = row['Khu Vực']\n",
        "    xe_1 = row['1.25T']\n",
        "    xe_2 = row['2T']\n",
        "    xe_3 = row['3.5T']\n",
        "    xe_4 = row['5T']\n",
        "    xe_5 = row['7T']\n",
        "    xe_6 = row['9T']\n",
        "    xe_7 = row['11T']\n",
        "    xe_8 = row['15T']\n",
        "    costb[khuvuc] = (xe_1, xe_2, xe_3, xe_4, xe_5, xe_6, xe_7, xe_8)\n",
        "\n",
        "#Nhà thầu c\n",
        "chiphic = pd.read_excel('baitoanthucte.xlsx', sheet_name='nhathauc')\n",
        "costc = {}\n",
        "for index, row in chiphic.iterrows():\n",
        "    khuvuc = row['Khu Vực']\n",
        "    xe_1 = row['1.25T']\n",
        "    xe_2 = row['2T']\n",
        "    xe_3 = row['3.5T']\n",
        "    xe_4 = row['5T']\n",
        "    xe_5 = row['7T']\n",
        "    xe_6 = row['9T']\n",
        "    xe_7 = row['11T']\n",
        "    xe_8 = row['15T']\n",
        "    costc[khuvuc] = (xe_1, xe_2, xe_3, xe_4, xe_5, xe_6, xe_7, xe_8)\n",
        "#Nhà thầu d\n",
        "chiphid = pd.read_excel('baitoanthucte.xlsx', sheet_name='nhathaud')\n",
        "costd = {}\n",
        "for index, row in chiphid.iterrows():\n",
        "    khuvuc = row['Khu Vực']\n",
        "    xe_1 = row['1.25T']\n",
        "    xe_2 = row['2T']\n",
        "    xe_3 = row['3.5T']\n",
        "    xe_4 = row['5T']\n",
        "    xe_5 = row['7T']\n",
        "    xe_6 = row['9T']\n",
        "    xe_7 = row['11T']\n",
        "    xe_8 = row['15T']\n",
        "    costd[khuvuc] = (xe_1, xe_2, xe_3, xe_4, xe_5, xe_6, xe_7, xe_8)"
      ]
    },
    {
      "cell_type": "markdown",
      "source": [
        "HÀM: so sánh chi phí giữa các thầu & chọn thầu cho chuyến"
      ],
      "metadata": {
        "id": "pgDa0HMqfK2V"
      }
    },
    {
      "cell_type": "code",
      "execution_count": null,
      "metadata": {
        "id": "twzuLNJUcuT7"
      },
      "outputs": [],
      "source": [
        "def cost_fuction(huyen,xe,chonthau):\n",
        "    max_costa = float('-inf')\n",
        "    max_costb = float('-inf')\n",
        "    max_costc = float('-inf')\n",
        "    max_costd = float('-inf')\n",
        "# huyen: các huyện trong 1 chuyến => lấy cost chuyến là cost bự nhất, cộng thêm phí rớt điểm cho mỗi điểm\n",
        "    for location in huyen:\n",
        "      current_costa = costa[location][xe-1]\n",
        "      max_costa = max(max_costa, current_costa)\n",
        "      current_costb = costb[location][xe-1]\n",
        "      max_costb = max(max_costb, current_costb)\n",
        "      current_costc = costc[location][xe-1]\n",
        "      max_costc = max(max_costc, current_costc)\n",
        "      current_costd = costd[location][xe-1]\n",
        "      max_costd = max(max_costd, current_costd)\n",
        "    thaua = max_costa + (len(huyen)-1)*costa[\"dropping\"][xe-1]\n",
        "    thaub = max_costb + (len(huyen)-1)*costb[\"dropping\"][xe-1]\n",
        "    thauc = max_costc + (len(huyen)-1)*costc[\"dropping\"][xe-1]\n",
        "    thaud = max_costd + (len(huyen)-1)*costd[\"dropping\"][xe-1]\n",
        "    cost = min(thaua, thaub, thauc, thaud)\n",
        "    if cost == thaua:\n",
        "      chonthau.append(\"Thau A\")\n",
        "    elif cost == thaub:\n",
        "      chonthau.append(\"Thau B\")\n",
        "    elif cost == thauc:\n",
        "      chonthau.append(\"Thau C\")\n",
        "    elif cost == thaud:\n",
        "      chonthau.append(\"Thau D\")\n",
        "    return cost, chonthau"
      ]
    },
    {
      "cell_type": "markdown",
      "source": [
        "HÀM: dựa theo khoảng cách xa kho nhất để tính khoảng cách nghịch tuyến cho phép"
      ],
      "metadata": {
        "id": "dXlLq8qsf_cc"
      }
    },
    {
      "cell_type": "code",
      "execution_count": null,
      "metadata": {
        "id": "Xd_0WoPOegDg"
      },
      "outputs": [],
      "source": [
        "def xuongca(maxdistance):\n",
        "    if maxdistance <= 35:\n",
        "      maxfishbone = 8\n",
        "    elif maxdistance <= 45:\n",
        "      maxfishbone = 10\n",
        "    elif maxdistance <= 55:\n",
        "      maxfishbone = 16\n",
        "    elif maxdistance <= 75:\n",
        "      maxfishbone = 18\n",
        "    elif maxdistance <= 105:\n",
        "      maxfishbone = 26\n",
        "    elif maxdistance <= 135:\n",
        "      maxfishbone = 30\n",
        "    elif maxdistance <= 175:\n",
        "      maxfishbone = 40\n",
        "    elif maxdistance <= 225:\n",
        "      maxfishbone = 50\n",
        "    elif maxdistance <= 275:\n",
        "      maxfishbone = 60\n",
        "    elif maxdistance <= 325:\n",
        "      maxfishbone = 70\n",
        "    elif maxdistance <= 400:\n",
        "      maxfishbone = 80\n",
        "    else: maxfishbone = 90\n",
        "    return maxfishbone"
      ]
    },
    {
      "cell_type": "markdown",
      "source": [
        "HÀM: Trao đổi & Cơ chế tăng cường"
      ],
      "metadata": {
        "id": "tBw6OZy_gp4Q"
      }
    },
    {
      "cell_type": "code",
      "execution_count": null,
      "metadata": {
        "id": "qb18MnIGgTyN"
      },
      "outputs": [],
      "source": [
        "import random\n",
        "#1: trao doi\n",
        "def Vertex_exchange(solution, j1, j2):\n",
        "    new_solution1 = solution.copy()\n",
        "    for i in range(len(new_solution1)):\n",
        "        if new_solution1[i] == j1:\n",
        "            new_solution1[i] = j2\n",
        "        elif new_solution1[i] == j2:\n",
        "            new_solution1[i] = j1\n",
        "    xoa_so_o_lien_tiep(new_solution1)\n",
        "    return new_solution1\n",
        "    print(new_solution1)\n",
        "#2: chen ve phia truoc dinh\n",
        "def  Vertex_forward_insertion(solution, j1, j2):\n",
        "    new_solution2 = solution.copy()\n",
        "    # Tìm vị trí của j1 và j2 trong danh sách đỉnh\n",
        "    index_j1 = solution.index(j1)\n",
        "    index_j2 = solution.index(j2)\n",
        "    # Loại bỏ j1 khỏi danh sách\n",
        "    new_solution2.pop(index_j1)\n",
        "    # Nếu j1 đứng trước j2, chỉ cần chèn j1 vào trước j2\n",
        "    if index_j1 < index_j2:\n",
        "        new_solution2.insert(index_j2-1, j1)\n",
        "    # Ngược lại, nếu j1 đứng sau j2, chèn j1 vào trước j2 - 1 (do j1 bị loại bỏ khỏi danh sách trước đó)\n",
        "    else:\n",
        "        new_solution2.insert(index_j2 , j1)\n",
        "    xoa_so_o_lien_tiep(new_solution2)\n",
        "    return new_solution2\n",
        "    print(new_solution2)\n",
        "#3: chen ve phia sau dinh\n",
        "def  Vertex_backward_insertion(solution, j1, j2):\n",
        "    new_solution3 = solution.copy()\n",
        "    # Tìm vị trí của j1 và j2 trong danh sách đỉnh\n",
        "    index_j1 = solution.index(j1)\n",
        "    index_j2 = solution.index(j2)\n",
        "    # Loại bỏ j1 khỏi danh sách\n",
        "    new_solution3.pop(index_j1)\n",
        "    # Nếu j1 đứng trước j2, chỉ cần chèn j1 vào trước j2\n",
        "    if index_j1 < index_j2:\n",
        "        new_solution3.insert(index_j2, j1)\n",
        "    # Ngược lại, nếu j1 đứng sau j2, chèn j1 vào trước j2 - 1 (do j1 bị loại bỏ khỏi danh sách trước đó)\n",
        "    else:\n",
        "        new_solution3.insert(index_j2 +1 , j1)\n",
        "    xoa_so_o_lien_tiep(new_solution3)\n",
        "    return new_solution3\n",
        "    print(new_solution3)\n",
        "#4: co che tang cuong - 2-opt algorithm\n",
        "def the_2_opt(solution, j1, j2):\n",
        "    # Tìm vị trí của j1 và j2\n",
        "    idx_j1 = solution.index(j1)\n",
        "    idx_j2 = solution.index(j2)\n",
        "    if idx_j1 >  idx_j2 :\n",
        "      j1, j2 = j2, j1\n",
        "      idx_j1 = solution.index(j1)\n",
        "      idx_j2 = solution.index(j2)\n",
        "    end_idx1 = solution.index(0, idx_j1) - 1  if 0 in solution[idx_j1:] else len(solution)\n",
        "    end_idx2 = solution.index(0, idx_j2) - 1  if 0 in solution[idx_j2:] else len(solution)\n",
        "    # Nếu j1 và j2 cùng nằm trong một chuyến, trả về mảng ban đầu\n",
        "    if end_idx1 == end_idx2:\n",
        "        return solution\n",
        "    else:\n",
        "        # Chuyển đổi chuỗi idx1:end_idx1 với chuỗi idx2:end_idx2\n",
        "      subsequence1 = solution[idx_j1: end_idx1 + 1 ]\n",
        "      subsequence2 = solution[idx_j2: end_idx2 + 1 ]\n",
        "      solution = (solution[:idx_j1] + subsequence2 + solution[end_idx1 + 1 :idx_j2] + subsequence1 + solution[end_idx2 + 1:])\n",
        "      xoa_so_o_lien_tiep(solution)\n",
        "      return solution\n",
        "      print(solution)\n",
        "#print(S)"
      ]
    },
    {
      "cell_type": "markdown",
      "metadata": {
        "id": "f3JSJmoQh7lM"
      },
      "source": [
        "KHỞI TẠO LỜI GIẢI BAN ĐẦU"
      ]
    },
    {
      "cell_type": "code",
      "execution_count": null,
      "metadata": {
        "id": "olzegXJxhn88"
      },
      "outputs": [],
      "source": [
        "def generate_initial_solution(customers):\n",
        "  # Số 0 sẽ được thêm vào giữa các số\n",
        "  solution = [0]\n",
        "  # Thêm số 0 vào giữa các số\n",
        "  for i in range(len(customers) - 1):\n",
        "      solution.append(customers[i])\n",
        "      solution.append(0)\n",
        "  # Thêm số cuối cùng vào dãy số mới\n",
        "  solution.append(customers[-1])\n",
        "  return solution"
      ]
    },
    {
      "cell_type": "code",
      "source": [
        "initial_solution = generate_initial_solution(customers)\n",
        "print(initial_solution)"
      ],
      "metadata": {
        "id": "CDYZ6Xj4uK5Q"
      },
      "execution_count": null,
      "outputs": []
    },
    {
      "cell_type": "code",
      "execution_count": null,
      "metadata": {
        "id": "OSfFyDW5h45E"
      },
      "outputs": [],
      "source": [
        "tat_ca_cap_so = [(x, y) for x in customers for y in customers if x < y]\n",
        "print(tat_ca_cap_so)\n",
        "a = random.choice(tat_ca_cap_so)\n",
        "print(a)"
      ]
    },
    {
      "cell_type": "markdown",
      "metadata": {
        "id": "V2dq5XwrlFxj"
      },
      "source": [
        "LỰA CHỌN CẶP HOÁN ĐỔI - đủ số lượng (c1) và không trong danh sách cấm"
      ]
    },
    {
      "cell_type": "code",
      "execution_count": null,
      "metadata": {
        "id": "p8MGaFNTjGiZ"
      },
      "outputs": [],
      "source": [
        "def chonj1_j2(solution, tabu_list, customers):\n",
        "    list_j1j2 = []\n",
        "    tat_ca_cap_so = [(x, y) for x in customers for y in customers if x < y]\n",
        "    while len(list_j1j2) < c1: #c1: số cặp hoán đổi vùng lân cận\n",
        "      cap_so_ngau_nhien = random.choice(tat_ca_cap_so)\n",
        "# xét để cặp số được chọn KHÔNG thuộc tabu list & KHÔNG trùng lại cặp vừa chọn\n",
        "      if cap_so_ngau_nhien not in tabu_list and (cap_so_ngau_nhien[1], cap_so_ngau_nhien[0]) not in tabu_list \\\n",
        "            and cap_so_ngau_nhien not in list_j1j2 and (cap_so_ngau_nhien[1], cap_so_ngau_nhien[0]) not in list_j1j2:\n",
        "        list_j1j2.append(cap_so_ngau_nhien)\n",
        "    return list_j1j2"
      ]
    },
    {
      "cell_type": "markdown",
      "metadata": {
        "id": "gxiyfNp3l6UJ"
      },
      "source": [
        "KHỞI TẠO VÙNG LÂN CẬN - hoán đổi các cặp được chọn"
      ]
    },
    {
      "cell_type": "code",
      "execution_count": null,
      "metadata": {
        "id": "gNUNtf23kMJj"
      },
      "outputs": [],
      "source": [
        "def hoandoi(solution,j1,j2):\n",
        "    S_feasible_1 = Vertex_exchange(solution, j1, j2)\n",
        "    S_feasible_2 = Vertex_forward_insertion(solution, j1, j2)\n",
        "    S_feasible_3 = Vertex_backward_insertion(solution, j1, j2)\n",
        "    S = [S_feasible_1, S_feasible_2, S_feasible_3]\n",
        "    return S\n",
        "# mỗi cặp hoán đổi thực hiện theo 3 cách => 3*c1 vùng lân cận"
      ]
    },
    {
      "cell_type": "markdown",
      "metadata": {
        "id": "B6If6sjMq2MH"
      },
      "source": [
        "ĐÁNH GIÁ VÙNG LÂN CẬN"
      ]
    },
    {
      "cell_type": "code",
      "execution_count": null,
      "metadata": {
        "id": "uFQvvKXwqrX5"
      },
      "outputs": [],
      "source": [
        "def evaluate_solution(solution):\n",
        "    total_load1 = 0\n",
        "    total_cbm1 = 0\n",
        "    current_load1 = 0\n",
        "    current_cbm1 = 0\n",
        "    maxdistance = 0\n",
        "    global tung_load\n",
        "    global tung_quang_duong\n",
        "    global chon_thau\n",
        "    global chonthau\n",
        "    global xe_duoc_chon\n",
        "    global chi_phi_tung_xe\n",
        "    global tung_cbm\n",
        "    global chi_phi_tung_chuyen\n",
        "    tung_cbm = []   #cbm tung route\n",
        "    tung_load = []  #load tung route\n",
        "    quangduong = 0\n",
        "    total_quangduong = 0\n",
        "    current_quangduong = 0\n",
        "    tung_quang_duong = [] #quang duong tung route\n",
        "    xe_duoc_chon = [] #xe tung route\n",
        "    chi_phi_tung_chuyen = [] #chi phí từng chuyến đi\n",
        "    f = 1\n",
        "    h = 0\n",
        "    z = 0\n",
        "    huyen = []\n",
        "    typezone = []\n",
        "    tinh = []\n",
        "    quanhuyen = []\n",
        "    chonthau = []\n",
        "    chon_thau = [] #thau tung route\n",
        "    G = 0\n",
        "    for i in range(1, len(solution)):\n",
        "        customer = solution[i]\n",
        "        demand_customer = demand[customer]\n",
        "        total_load1 = current_load1 + demand_customer[1]\n",
        "        total_cbm1 = current_cbm1 + demand_customer[2]\n",
        "        total_quangduong =  current_quangduong + khoangcach_dict[demand[solution[i-1]][0]][demand[customer][0]]\n",
        "        distancekho =  khoangcach_dict['A_9512'][demand[customer][0]]\n",
        "        if customer != 0:\n",
        "            huyen.append(demand_customer[3])\n",
        "            # để cập nhật khoảng cách xa nhất từ kho đến bộ khách hàng\n",
        "            if maxdistance < distancekho:\n",
        "              maxdistance = distancekho\n",
        "            current_load1 = total_load1\n",
        "            current_cbm1 = total_cbm1\n",
        "            current_quangduong = total_quangduong\n",
        "            # chọn xe và cập nhật thông tin xe khi đến điểm cuối của chuyến cuối\n",
        "            if i == len(solution)-1:\n",
        "              chon_xe = choose_truck(current_load1, current_cbm1, xe)\n",
        "              xe_duoc_chon.append(chon_xe)\n",
        "              tung_load.append(current_load1)\n",
        "              tung_cbm.append(current_cbm1)\n",
        "              if current_quangduong > (maxdistance + xuongca(maxdistance)): # xương cá\n",
        "                f = 0\n",
        "              # ràng buộc mỗi chuyến đều phải chọn được xe\n",
        "              if chon_xe is None:\n",
        "                f = 0\n",
        "              if chon_xe is not None:\n",
        "                chi_phi_tung_xe, chonthau = cost_fuction(huyen,chon_xe,chonthau)\n",
        "                chon_thau.append(chonthau)\n",
        "                tung_quang_duong.append(current_quangduong)\n",
        "                chi_phi_tung_chuyen.append(chi_phi_tung_xe)\n",
        "                G += chi_phi_tung_xe + current_quangduong\n",
        "        else:\n",
        "            chon_xe = choose_truck(current_load1, current_cbm1, xe)\n",
        "            xe_duoc_chon.append(chon_xe)\n",
        "            tung_load.append(current_load1)\n",
        "            tung_cbm.append(current_cbm1)\n",
        "            if current_quangduong > (maxdistance + xuongca(maxdistance)):\n",
        "              f = 0\n",
        "            if chon_xe is None:\n",
        "              f = 0\n",
        "            if chon_xe is not None:\n",
        "              chi_phi_tung_xe, chonthau = cost_fuction(huyen,chon_xe,chonthau)\n",
        "              chon_thau.append(chonthau)\n",
        "              tung_quang_duong.append(current_quangduong)\n",
        "              chi_phi_tung_chuyen.append(chi_phi_tung_xe)\n",
        "              G += chi_phi_tung_xe + current_quangduong\n",
        "        # Gặp số 0, cập nhật lại trạng thái\n",
        "            maxdistance = 0\n",
        "            current_load1 = 0\n",
        "            current_cbm1 = 0\n",
        "            current_quangduong = 0\n",
        "            total_load1 = 0\n",
        "            total_cbm1 = 0\n",
        "            total_quangduong = 0\n",
        "            huyen = []\n",
        "            typezone = []\n",
        "            soluongzone = []\n",
        "            tinh = []\n",
        "            quanhuyen = []\n",
        "            soluongtinh = []\n",
        "            soluongquanhuyen = []\n",
        "    # list G f của 1 solution\n",
        "    list_gf = [G,f,solution]\n",
        "    return list_gf"
      ]
    },
    {
      "cell_type": "markdown",
      "metadata": {
        "id": "q-3kEuVIxCzb"
      },
      "source": [
        "THỰC HIỆN TABU SEARCH ĐẦY ĐỦ"
      ]
    },
    {
      "cell_type": "code",
      "execution_count": null,
      "metadata": {
        "id": "X5KDweOqvHb-"
      },
      "outputs": [],
      "source": [
        "def tabu(**kwargs):\n",
        "    S_feasible = []\n",
        "    S_now = initial_solution\n",
        "    tabu_list = []\n",
        "    S_best = S_now\n",
        "    N = len(S_now)\n",
        "    list_j1j2 =[]\n",
        "    y = []\n",
        "    x = []\n",
        "    z = []\n",
        "    son = 0\n",
        "    tabu_list = []\n",
        "    tabu = []\n",
        "    g_intensification_mechanism = float('inf')\n",
        "    intensification_mechanism = 0 # cơ chế tăng cường: số lần lặp không tạo ra kết quả tốt hơn\n",
        "    best = evaluate_solution(S_best)\n",
        "    g_best = best[0]\n",
        "    g_now = g_best\n",
        "    iteration = 0\n",
        "    start_time = time.time()\n",
        "    while True:\n",
        "        list12 = chonj1_j2(S_now,tabu_list, customers)\n",
        "        Ss_now = []\n",
        "        g_n = float('inf')\n",
        "        # g_now_value = float('inf')\n",
        "        for j1,j2 in list12:\n",
        "          S = hoandoi(S_now,j1,j2)\n",
        "          # Tạo ra các giải pháp khả thi\n",
        "          for i in S:\n",
        "            S_feasible = evaluate_solution(i)\n",
        "      # Kết quả có hàm mục tiêu của S best\n",
        "            # Kết quả có hàm mục tiêu của S best\n",
        "            if S_feasible[1] == 1:\n",
        "                g_value = S_feasible[0]\n",
        "                if g_value < g_n:\n",
        "                    g_n = g_value\n",
        "                    Ss_now = S_feasible[2]\n",
        "                    tabu = [j1,j2]\n",
        "        if Ss_now is not None:\n",
        "          S_now = Ss_now\n",
        "          g_now = g_n\n",
        "        if g_now < g_best:\n",
        "          g_best = g_now\n",
        "          S_best = S_now\n",
        "          tabu_list.append(tabu)\n",
        "          tabu = []\n",
        "          intensification_mechanism = 0\n",
        "        else:\n",
        "          intensification_mechanism += 1\n",
        "\n",
        "        # Kiểm tra cơ chế tăng cường\n",
        "        if intensification_mechanism >= d1*iteration/100:\n",
        "          g_intensification_mechanism = float('inf')\n",
        "          Sss_now = []\n",
        "          for ji,j2 in list12:\n",
        "            S = the_2_opt(S_now, j1, j2)\n",
        "            S_feasible = evaluate_solution(S)\n",
        "            if S_feasible[1] == 1:\n",
        "              g_value = S_feasible[0]\n",
        "              if g_value < g_intensification_mechanism:\n",
        "                g_intensification_mechanism = g_value\n",
        "                Sss_now = S_feasible[2]\n",
        "                tabu = [j1,j2]\n",
        "          if Sss_now is not None:\n",
        "            S_now = Sss_now\n",
        "            g_now = g_value\n",
        "        iteration += 1\n",
        "        son +=1\n",
        "        if len(tabu_list) > a1:\n",
        "          tabu_list.pop(0)\n",
        "        if son == b1:\n",
        "          son = 0\n",
        "          tabu_list = []\n",
        "        z.append(S_best)\n",
        "        y.append(g_now)\n",
        "        x.append(iteration)\n",
        "        # kiểm tra điều kiện dừng\n",
        "        if intensification_mechanism >= e1*iteration/100:\n",
        "            break\n",
        "        if time.time() - start_time > 8 * 60:\n",
        "            break\n",
        "    return g_best"
      ]
    },
    {
      "cell_type": "code",
      "execution_count": null,
      "metadata": {
        "id": "Ey3wmFB5xBZE"
      },
      "outputs": [],
      "source": [
        "from sys import breakpointhook\n",
        "import random\n",
        "import itertools\n",
        "import time\n",
        "results = []\n",
        "ket_qua_tung_lan_lap = []\n",
        "sodiemgiao = len(customers)\n",
        "a = [8,16,24]\n",
        "b = [25,50,75]\n",
        "c = [150,200,250]\n",
        "d = [3,5,7]\n",
        "e = [20,30,40]\n",
        "\n",
        "# Ma trận L27 cho 5 yếu tố với 3 mức giá trị\n",
        "l27_matrix = [\n",
        "    [2, 1, 2, 3, 2],\n",
        "    [3, 1, 1, 1, 3],\n",
        "    [1, 1, 1, 1, 3],\n",
        "    [1, 2, 2, 2, 1],\n",
        "    [1, 2, 2, 2, 2],\n",
        "    [1, 2, 2, 2, 3],\n",
        "    [1, 3, 3, 3, 1],\n",
        "    [1, 3, 3, 3, 2],\n",
        "    [1, 3, 3, 3, 3],\n",
        "    [2, 1, 2, 3, 1],\n",
        "    [2, 1, 2, 3, 2],\n",
        "    [2, 1, 2, 3, 3],\n",
        "    [2, 2, 3, 1, 1],\n",
        "    [2, 2, 3, 1, 2],\n",
        "    [2, 2, 3, 1, 3],\n",
        "    [2, 3, 1, 2, 1],\n",
        "    [2, 3, 1, 2, 2],\n",
        "    [2, 3, 1, 2, 3],\n",
        "    [3, 1, 3, 2, 1],\n",
        "    [3, 1, 3, 2, 2],\n",
        "    [3, 1, 3, 2, 3],\n",
        "    [3, 2, 1, 3, 1],\n",
        "    [3, 2, 1, 3, 2],\n",
        "    [3, 2, 1, 3, 3],\n",
        "    [3, 3, 2, 1, 1],\n",
        "    [3, 3, 2, 1, 2],\n",
        "    [3, 3, 2, 1, 3],\n",
        "]\n",
        "\n",
        "def create_combinations(matrix, a, b, c, d, e):\n",
        "    combinations = []\n",
        "    for row in matrix:\n",
        "        combination = (\n",
        "            a[row[0] - 1],  # Chọn giá trị từ a dựa trên chỉ số trong ma trận\n",
        "            b[row[1] - 1],  # Chọn giá trị từ b\n",
        "            c[row[2] - 1],  # Chọn giá trị từ c\n",
        "            d[row[3] - 1],  # Chọn giá trị từ d\n",
        "            e[row[4] - 1],  # Chọn giá trị từ e\n",
        "        )\n",
        "        combinations.append(combination)\n",
        "    return combinations\n",
        "\n",
        "# Tạo tổ hợp\n",
        "combinations = create_combinations(l27_matrix, a, b, c, d, e)\n",
        "\n",
        "for combination in combinations:\n",
        "  a1 = combination[0]\n",
        "  b1 = combination[1]\n",
        "  c1 = combination[2]\n",
        "  d1 = combination[3]\n",
        "  e1 = combination[4]\n",
        "  g_best = tabu(a1=a1, b1=b1, c1=c1, d1=d1, e1=e1)\n",
        "  results ={\n",
        "    'Độ dài danh sách tabu': a1,\n",
        "    'Số lần lặp liên tiếp để khởi tạo lại danh sách tabu': b1,\n",
        "    'Số cặp hoán đổi vùng lân cận': c1,\n",
        "    'Cơ chế tăng cường (% số lần lặp không tốt hơn)': d1,\n",
        "    'Điều kiện dừng (% số lần lặp không tốt hơn)': e1,\n",
        "    'Giá trị': g_best}\n",
        "  ket_qua_tung_lan_lap.append(results)\n",
        "  print(results)"
      ]
    },
    {
      "cell_type": "code",
      "source": [
        "import pandas as pd\n",
        "\n",
        "df = pd.DataFrame(ket_qua_tung_lan_lap)\n",
        "\n",
        "# Lưu DataFrame thành một file Excel\n",
        "excel_filename = 'QHTN_L27.xlsx'\n",
        "df.to_excel(excel_filename, index=False)\n",
        "print(f\"Dữ liệu đã được lưu vào file Excel: {excel_filename}\")"
      ],
      "metadata": {
        "id": "i3C7UZatj0gc"
      },
      "execution_count": null,
      "outputs": []
    },
    {
      "cell_type": "code",
      "source": [
        "import matplotlib.pyplot as plt\n",
        "# Vẽ biểu đồ điểm\n",
        "plt.scatter(x, y, label = \"Hàm mục tiêu\", color = \"blue\", marker = \"o\")\n",
        "# Đặt nhãn cho trục x và y\n",
        "plt.xlabel(\"Số lần lặp\")\n",
        "plt.ylabel(\"Toal Cost\")\n",
        "# Đặt tiêu đề cho biểu đồ\n",
        "plt.title(\"ĐỒ ÁN\")\n",
        "# Hiển thị hình chú thích (legend)\n",
        "plt.legend()\n",
        "# Hiển thị biểu đồ\n",
        "plt.show()"
      ],
      "metadata": {
        "id": "x6g4kG0DjTMz"
      },
      "execution_count": null,
      "outputs": []
    }
  ],
  "metadata": {
    "colab": {
      "provenance": [],
      "authorship_tag": "ABX9TyPAzgcUYevgvlPQoP8d9HiT",
      "include_colab_link": true
    },
    "kernelspec": {
      "display_name": "Python 3",
      "name": "python3"
    },
    "language_info": {
      "name": "python"
    }
  },
  "nbformat": 4,
  "nbformat_minor": 0
}